{
 "cells": [
  {
   "cell_type": "code",
   "execution_count": 6,
   "id": "892d9822-6123-455c-aa95-42280c7c8475",
   "metadata": {},
   "outputs": [
    {
     "name": "stdout",
     "output_type": "stream",
     "text": [
      "Father: Hey Baby!\n",
      "Daughter: Hello Dady\n",
      "Father: I heard your exams are over, what about result\n",
      "Daughter: Yes dad! Results are out.\n",
      "Father: what is the percentage?\n",
      "Daughter: I will give my subject wise marks , you tell me the percentage\n",
      "Father : Okay!\n"
     ]
    },
    {
     "name": "stdin",
     "output_type": "stream",
     "text": [
      "First Language: 90\n",
      "Second language: 90\n",
      "Third language: 90\n",
      "Science: 85\n",
      "Maths: 95\n"
     ]
    },
    {
     "name": "stdout",
     "output_type": "stream",
     "text": [
      "Daughter: Dad Now tell me how much percentage I got\n",
      "Father: Tell me the max marks of each subject\n"
     ]
    },
    {
     "name": "stdin",
     "output_type": "stream",
     "text": [
      "Daughter 100\n"
     ]
    },
    {
     "name": "stdout",
     "output_type": "stream",
     "text": [
      "90.0\n"
     ]
    }
   ],
   "source": [
    "print('Father: Hey Baby!')\n",
    "print(\"Daughter: Hello Dady\")\n",
    "print(\"Father: I heard your exams are over, what about result\")\n",
    "print(\"Daughter: Yes dad! Results are out.\")\n",
    "print(\"Father: what is the percentage?\")\n",
    "print(\"Daughter: I will give my subject wise marks , you tell me the percentage\")\n",
    "print(\"Father : Okay!\")\n",
    "sub1=eval(input(\"First Language:\"))\n",
    "sub2=eval(input(\"Second language:\"))\n",
    "sub3=eval(input(\"Third language:\"))\n",
    "sub4=eval(input(\"Science:\"))\n",
    "sub5=eval(input(\"Maths:\"))\n",
    "print(\"Daughter: Dad Now tell me how much percentage I got\")\n",
    "print(\"Father: Tell me the max marks of each subject\")\n",
    "max_marks=eval(input(\"Daughter\"))\n",
    "total_marks=(sub1+sub2+sub3+sub4+sub5)\n",
    "print(450/500*100)"
   ]
  },
  {
   "cell_type": "code",
   "execution_count": null,
   "id": "dd214407-1b02-40d4-b39c-92cb07a0929d",
   "metadata": {},
   "outputs": [],
   "source": []
  }
 ],
 "metadata": {
  "kernelspec": {
   "display_name": "Python 3 (ipykernel)",
   "language": "python",
   "name": "python3"
  },
  "language_info": {
   "codemirror_mode": {
    "name": "ipython",
    "version": 3
   },
   "file_extension": ".py",
   "mimetype": "text/x-python",
   "name": "python",
   "nbconvert_exporter": "python",
   "pygments_lexer": "ipython3",
   "version": "3.11.7"
  }
 },
 "nbformat": 4,
 "nbformat_minor": 5
}
